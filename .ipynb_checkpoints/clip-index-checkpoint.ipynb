{
 "cells": [
  {
   "cell_type": "code",
   "execution_count": 1,
   "id": "8fa76d99-a798-4f1b-b71e-829213605a7c",
   "metadata": {},
   "outputs": [],
   "source": [
    "import argparse\n",
    "from pathlib import Path\n",
    "from PIL import Image\n",
    "import time\n",
    "from sentence_transformers import SentenceTransformer\n",
    "import torch\n",
    "import numpy as np\n",
    "import json\n",
    "from annoy import AnnoyIndex"
   ]
  },
  {
   "cell_type": "code",
   "execution_count": 2,
   "id": "117e8995-092c-498d-96b1-8161508820ba",
   "metadata": {},
   "outputs": [],
   "source": [
    "def embed_file_batch(file_list, output_file):\n",
    "    start_time = time.perf_counter() \n",
    "    img_list = [Image.open(filepath).convert('RGB') for filepath in file_list]\n",
    "    end_time = time.perf_counter()\n",
    "    elapsed_time = end_time - start_time\n",
    "    print(f'{len(img_list)} images loaded in {elapsed_time} s')\n",
    "\n",
    "    start_time = time.perf_counter()    \n",
    "    embeddings = model.encode(img_list, \n",
    "                              batch_size=32,\n",
    "                              # device=args.device,\n",
    "                              show_progress_bar=False)\n",
    "    end_time = time.perf_counter()\n",
    "    elapsed_time = end_time - start_time\n",
    "    print(f'{len(embeddings)} embeddings created in {elapsed_time} s')\n",
    "\n",
    "    flickr_ids = [file.stem for file in file_list]\n",
    "    with open(f'temp_embeddings/{output_file}.json','w') as json_out:\n",
    "        json.dump(flickr_ids, json_out)\n",
    "\n",
    "    with open(f'temp_embeddings/{output_file}.npy','wb') as np_file:\n",
    "        np.save(np_file, embeddings)\n",
    "    \n",
    "    return"
   ]
  },
  {
   "cell_type": "code",
   "execution_count": 12,
   "id": "94791a92-0419-4403-963f-430f297a0b2d",
   "metadata": {},
   "outputs": [
    {
     "name": "stderr",
     "output_type": "stream",
     "text": [
      "ftfy or spacy is not installed using BERT BasicTokenizer instead of ftfy.\n"
     ]
    }
   ],
   "source": [
    "model = SentenceTransformer('clip-ViT-B-32')"
   ]
  },
  {
   "cell_type": "code",
   "execution_count": 15,
   "id": "a0baf91b-4ffb-4ff9-9f1e-460a9f7c74da",
   "metadata": {},
   "outputs": [
    {
     "name": "stderr",
     "output_type": "stream",
     "text": [
      "ftfy or spacy is not installed using BERT BasicTokenizer instead of ftfy.\n"
     ]
    },
    {
     "name": "stdout",
     "output_type": "stream",
     "text": [
      "Model loaded in 8.59740290000002 s\n",
      "Took 0.8693340999999464 s to load 80080 into a list\n"
     ]
    }
   ],
   "source": [
    "# torch.set_num_threads(8)\n",
    "\n",
    "start_time = time.perf_counter()\n",
    "model = SentenceTransformer('clip-ViT-B-32')\n",
    "end_time = time.perf_counter()\n",
    "elapsed_time = end_time - start_time\n",
    "print(f'Model loaded in {elapsed_time} s')\n",
    "\n",
    "start_time = time.perf_counter()\n",
    "all_names = list(Path('final_images').rglob('*.jpg'))\n",
    "end_time = time.perf_counter()\n",
    "elapsed_time = end_time - start_time\n",
    "print(f'Took {elapsed_time} s to load {len(all_names)} into a list')"
   ]
  },
  {
   "cell_type": "code",
   "execution_count": 5,
   "id": "fd12bffd-8500-4b9e-9235-d80efe90f5c7",
   "metadata": {},
   "outputs": [],
   "source": [
    "# all_names = all_names[:1000]"
   ]
  },
  {
   "cell_type": "code",
   "execution_count": 16,
   "id": "16a4e653-7163-4684-a070-2972aeafda15",
   "metadata": {},
   "outputs": [
    {
     "name": "stdout",
     "output_type": "stream",
     "text": [
      "0 80080\n",
      "80080 images loaded in 36.153941799999984 s\n",
      "80080 embeddings created in 3184.8840032000003 s\n"
     ]
    }
   ],
   "source": [
    "FILE_BATCH_SIZE = 1000000\n",
    "for start in range(0, len(all_names), FILE_BATCH_SIZE):\n",
    "    file_subset = all_names[start:start+FILE_BATCH_SIZE]\n",
    "    if len(file_subset) < FILE_BATCH_SIZE:\n",
    "        file_end = start + len(file_subset)\n",
    "    else:\n",
    "        file_end = start + FILE_BATCH_SIZE\n",
    "    print(start, file_end)\n",
    "    file_out = f'embeddings_{start}_{file_end}'\n",
    "    embed_file_batch(file_subset, file_out)"
   ]
  },
  {
   "cell_type": "code",
   "execution_count": 25,
   "id": "147a44fc-0585-4518-96aa-83e3f2edbdc2",
   "metadata": {},
   "outputs": [],
   "source": [
    "with open(f'mss_embeddings/embeddings_0_217878.npy','rb') as np_file:\n",
    "    np_arrays = np.load(np_file)"
   ]
  },
  {
   "cell_type": "code",
   "execution_count": 26,
   "id": "8702b4de-9a1f-4d39-aabb-0b639fe5a07b",
   "metadata": {},
   "outputs": [],
   "source": [
    "with open(f'mss_embeddings/embeddings_0_217878.json','r', encoding=\"utf-8\") as embedding_file:\n",
    "    embeddings_index = json.load(embedding_file)"
   ]
  },
  {
   "cell_type": "code",
   "execution_count": 27,
   "id": "81db5332-00fb-4a89-b6b1-7fc30a2eb73a",
   "metadata": {},
   "outputs": [],
   "source": [
    "bhl_index = AnnoyIndex(512, metric='angular')"
   ]
  },
  {
   "cell_type": "code",
   "execution_count": 28,
   "id": "ef198299-a722-4ba8-bcc0-1806b9c2c0aa",
   "metadata": {},
   "outputs": [
    {
     "data": {
      "text/plain": [
       "True"
      ]
     },
     "execution_count": 28,
     "metadata": {},
     "output_type": "execute_result"
    }
   ],
   "source": [
    "for idx, emb in enumerate(np_arrays):\n",
    "    bhl_index.add_item(idx, emb)\n",
    "bhl_index.build(10)"
   ]
  },
  {
   "cell_type": "code",
   "execution_count": 20,
   "id": "a9be852e-ce2f-421b-84f6-93f7ff533d27",
   "metadata": {},
   "outputs": [
    {
     "data": {
      "application/vnd.jupyter.widget-view+json": {
       "model_id": "70ec8ccb763c440794aacfaffdaf29fe",
       "version_major": 2,
       "version_minor": 0
      },
      "text/plain": [
       "Batches:   0%|          | 0/1 [00:00<?, ?it/s]"
      ]
     },
     "metadata": {},
     "output_type": "display_data"
    }
   ],
   "source": [
    "query_emb = model.encode([\"test\"], show_progress_bar=True)"
   ]
  },
  {
   "cell_type": "code",
   "execution_count": 21,
   "id": "9e93cec8-633d-486f-88eb-b0b2ad0f69a4",
   "metadata": {},
   "outputs": [
    {
     "ename": "IndexError",
     "evalue": "list index out of range",
     "output_type": "error",
     "traceback": [
      "\u001b[1;31m---------------------------------------------------------------------------\u001b[0m",
      "\u001b[1;31mIndexError\u001b[0m                                Traceback (most recent call last)",
      "Input \u001b[1;32mIn [21]\u001b[0m, in \u001b[0;36m<cell line: 3>\u001b[1;34m()\u001b[0m\n\u001b[0;32m      1\u001b[0m closest_5_idx, closest_5_dist \u001b[38;5;241m=\u001b[39m bhl_index\u001b[38;5;241m.\u001b[39mget_nns_by_vector(query_emb[\u001b[38;5;241m0\u001b[39m], \u001b[38;5;241m5\u001b[39m,\n\u001b[0;32m      2\u001b[0m                                         include_distances\u001b[38;5;241m=\u001b[39m\u001b[38;5;28;01mTrue\u001b[39;00m)\n\u001b[0;32m      3\u001b[0m \u001b[38;5;28;01mfor\u001b[39;00m idx \u001b[38;5;129;01min\u001b[39;00m closest_5_idx:\n\u001b[1;32m----> 4\u001b[0m     \u001b[38;5;28mprint\u001b[39m(idx, \u001b[43membeddings_index\u001b[49m\u001b[43m[\u001b[49m\u001b[43midx\u001b[49m\u001b[43m]\u001b[49m)\n",
      "\u001b[1;31mIndexError\u001b[0m: list index out of range"
     ]
    }
   ],
   "source": [
    "closest_5_idx, closest_5_dist = bhl_index.get_nns_by_vector(query_emb[0], 5,\n",
    "                                        include_distances=True)\n",
    "for idx in closest_5_idx:\n",
    "    print(idx, embeddings_index[idx])"
   ]
  },
  {
   "cell_type": "code",
   "execution_count": 29,
   "id": "7a6eeacd-2fe1-435a-9ee8-d50d40e83b8a",
   "metadata": {},
   "outputs": [
    {
     "data": {
      "text/plain": [
       "True"
      ]
     },
     "execution_count": 29,
     "metadata": {},
     "output_type": "execute_result"
    }
   ],
   "source": [
    "bhl_index.save(\"mss_embeddings/clip_217878.ann\")"
   ]
  },
  {
   "cell_type": "code",
   "execution_count": 36,
   "id": "337aec34-7f56-4ed6-9a49-5f20a4917cc9",
   "metadata": {},
   "outputs": [
    {
     "data": {
      "text/plain": [
       "'630073'"
      ]
     },
     "execution_count": 36,
     "metadata": {},
     "output_type": "execute_result"
    }
   ],
   "source": [
    "embeddings_index[0]"
   ]
  },
  {
   "cell_type": "code",
   "execution_count": 50,
   "id": "e0faf248-062f-45bf-8f8e-7e31fc29c735",
   "metadata": {},
   "outputs": [
    {
     "ename": "IndexError",
     "evalue": "list index out of range",
     "output_type": "error",
     "traceback": [
      "\u001b[1;31m---------------------------------------------------------------------------\u001b[0m",
      "\u001b[1;31mIndexError\u001b[0m                                Traceback (most recent call last)",
      "Input \u001b[1;32mIn [50]\u001b[0m, in \u001b[0;36m<cell line: 1>\u001b[1;34m()\u001b[0m\n\u001b[1;32m----> 1\u001b[0m \u001b[43membeddings_index\u001b[49m\u001b[43m[\u001b[49m\u001b[38;5;241;43m630073\u001b[39;49m\u001b[43m]\u001b[49m\n",
      "\u001b[1;31mIndexError\u001b[0m: list index out of range"
     ]
    }
   ],
   "source": [
    "embeddings_index[630073]"
   ]
  },
  {
   "cell_type": "code",
   "execution_count": null,
   "id": "17d6c437-0ac1-4316-94c2-9228c54c99cf",
   "metadata": {},
   "outputs": [],
   "source": []
  }
 ],
 "metadata": {
  "kernelspec": {
   "display_name": "Python 3 (ipykernel)",
   "language": "python",
   "name": "python3"
  },
  "language_info": {
   "codemirror_mode": {
    "name": "ipython",
    "version": 3
   },
   "file_extension": ".py",
   "mimetype": "text/x-python",
   "name": "python",
   "nbconvert_exporter": "python",
   "pygments_lexer": "ipython3",
   "version": "3.8.5"
  }
 },
 "nbformat": 4,
 "nbformat_minor": 5
}
